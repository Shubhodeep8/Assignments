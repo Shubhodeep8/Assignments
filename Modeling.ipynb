{
 "cells": [
  {
   "metadata": {},
   "cell_type": "markdown",
   "source": "The client ABC is a US based large retailer of apparel and accessories. ABC management is planning to expand their business by opening more shops in different locations across the US.",
   "id": "4757f785cfb28f66"
  },
  {
   "cell_type": "code",
   "id": "initial_id",
   "metadata": {
    "collapsed": true,
    "ExecuteTime": {
     "end_time": "2025-07-06T16:24:32.806168Z",
     "start_time": "2025-07-06T16:24:32.800446Z"
    }
   },
   "source": [
    "import pandas as pd\n",
    "import numpy as np\n",
    "import statsmodels.api as sm\n",
    "import matplotlib.pyplot as plt\n",
    "from sklearn.model_selection import train_test_split\n",
    "from sklearn.metrics import mean_absolute_error,mean_squared_error,r2_score\n",
    "from sklearn.feature_selection import VarianceThreshold\n",
    "import seaborn as sns\n",
    "from openpyxl import load_workbook\n",
    "from openpyxl.drawing.image import Image as XLImage\n",
    "import os\n",
    "from io import StringIO\n",
    "sns.set()\n"
   ],
   "outputs": [],
   "execution_count": 78
  },
  {
   "metadata": {
    "ExecuteTime": {
     "end_time": "2025-07-06T16:24:33.041114Z",
     "start_time": "2025-07-06T16:24:32.866117Z"
    }
   },
   "cell_type": "code",
   "source": [
    "df=pd.read_excel(\"Data2.xlsx\",sheet_name=\"Data\")\n",
    "df.head()"
   ],
   "id": "5202cec7af49112a",
   "outputs": [
    {
     "data": {
      "text/plain": [
       "   Store ID Pop class       Sales Centre Type   Climate  Total Store Sq Ft  \\\n",
       "0         1  Suburban  1345251.88      Outlet    Frigid             4735.0   \n",
       "1         2     Urban  1669906.40        Mall  Moderate             8068.0   \n",
       "2         3     Urban  2528042.74      Outlet       Hot             4583.2   \n",
       "3         4  Suburban  1281613.45      Outlet  Moderate             5772.3   \n",
       "4         5     Urban  1278092.87      Outlet      Cold             3503.0   \n",
       "\n",
       "   Sales Floor Sq Ft  Girls Sq Ft  Guys Sq Ft  Accessories Sq Ft  ...  \\\n",
       "0             4015.6       2032.3       947.7              747.5  ...   \n",
       "1             7128.6       2735.2      1788.1             1251.3  ...   \n",
       "2             3961.7       2082.9      1030.2              551.7  ...   \n",
       "3             4713.0       2140.1      1149.0             1162.2  ...   \n",
       "4             3239.0       1870.6       769.5              483.5  ...   \n",
       "\n",
       "  Poverty: In poverty Male 14 to 35 CrYr Female 14 to 35 CrYr  \\\n",
       "0                1680               4444                 4095   \n",
       "1               21003              58486                52872   \n",
       "2              107701             286481               275998   \n",
       "3               23477              45764                43429   \n",
       "4               65968             157166               152880   \n",
       "\n",
       "  Total Pop 14 to 35 CrYr  Under 25 Low Income  Under 25 Med Income  \\\n",
       "0                    8539                   74                  285   \n",
       "1                  111358                 1317                 1396   \n",
       "2                  562479                14977                11109   \n",
       "3                   89193                 5135                 2426   \n",
       "4                  310046                11249                 6220   \n",
       "\n",
       "   Under 25 High Income  25 to 44 Low Income  25 to 44 Med Income  \\\n",
       "0                     7                  683                 1692   \n",
       "1                   358                11104                21417   \n",
       "2                  2870                63228               120359   \n",
       "3                   512                10011                15485   \n",
       "4                  2311                32448                57978   \n",
       "\n",
       "   25 to 44 High Income  \n",
       "0                  1291  \n",
       "1                 20357  \n",
       "2                 99407  \n",
       "3                  9238  \n",
       "4                 74382  \n",
       "\n",
       "[5 rows x 37 columns]"
      ],
      "text/html": [
       "<div>\n",
       "<style scoped>\n",
       "    .dataframe tbody tr th:only-of-type {\n",
       "        vertical-align: middle;\n",
       "    }\n",
       "\n",
       "    .dataframe tbody tr th {\n",
       "        vertical-align: top;\n",
       "    }\n",
       "\n",
       "    .dataframe thead th {\n",
       "        text-align: right;\n",
       "    }\n",
       "</style>\n",
       "<table border=\"1\" class=\"dataframe\">\n",
       "  <thead>\n",
       "    <tr style=\"text-align: right;\">\n",
       "      <th></th>\n",
       "      <th>Store ID</th>\n",
       "      <th>Pop class</th>\n",
       "      <th>Sales</th>\n",
       "      <th>Centre Type</th>\n",
       "      <th>Climate</th>\n",
       "      <th>Total Store Sq Ft</th>\n",
       "      <th>Sales Floor Sq Ft</th>\n",
       "      <th>Girls Sq Ft</th>\n",
       "      <th>Guys Sq Ft</th>\n",
       "      <th>Accessories Sq Ft</th>\n",
       "      <th>...</th>\n",
       "      <th>Poverty: In poverty</th>\n",
       "      <th>Male 14 to 35 CrYr</th>\n",
       "      <th>Female 14 to 35 CrYr</th>\n",
       "      <th>Total Pop 14 to 35 CrYr</th>\n",
       "      <th>Under 25 Low Income</th>\n",
       "      <th>Under 25 Med Income</th>\n",
       "      <th>Under 25 High Income</th>\n",
       "      <th>25 to 44 Low Income</th>\n",
       "      <th>25 to 44 Med Income</th>\n",
       "      <th>25 to 44 High Income</th>\n",
       "    </tr>\n",
       "  </thead>\n",
       "  <tbody>\n",
       "    <tr>\n",
       "      <th>0</th>\n",
       "      <td>1</td>\n",
       "      <td>Suburban</td>\n",
       "      <td>1345251.88</td>\n",
       "      <td>Outlet</td>\n",
       "      <td>Frigid</td>\n",
       "      <td>4735.0</td>\n",
       "      <td>4015.6</td>\n",
       "      <td>2032.3</td>\n",
       "      <td>947.7</td>\n",
       "      <td>747.5</td>\n",
       "      <td>...</td>\n",
       "      <td>1680</td>\n",
       "      <td>4444</td>\n",
       "      <td>4095</td>\n",
       "      <td>8539</td>\n",
       "      <td>74</td>\n",
       "      <td>285</td>\n",
       "      <td>7</td>\n",
       "      <td>683</td>\n",
       "      <td>1692</td>\n",
       "      <td>1291</td>\n",
       "    </tr>\n",
       "    <tr>\n",
       "      <th>1</th>\n",
       "      <td>2</td>\n",
       "      <td>Urban</td>\n",
       "      <td>1669906.40</td>\n",
       "      <td>Mall</td>\n",
       "      <td>Moderate</td>\n",
       "      <td>8068.0</td>\n",
       "      <td>7128.6</td>\n",
       "      <td>2735.2</td>\n",
       "      <td>1788.1</td>\n",
       "      <td>1251.3</td>\n",
       "      <td>...</td>\n",
       "      <td>21003</td>\n",
       "      <td>58486</td>\n",
       "      <td>52872</td>\n",
       "      <td>111358</td>\n",
       "      <td>1317</td>\n",
       "      <td>1396</td>\n",
       "      <td>358</td>\n",
       "      <td>11104</td>\n",
       "      <td>21417</td>\n",
       "      <td>20357</td>\n",
       "    </tr>\n",
       "    <tr>\n",
       "      <th>2</th>\n",
       "      <td>3</td>\n",
       "      <td>Urban</td>\n",
       "      <td>2528042.74</td>\n",
       "      <td>Outlet</td>\n",
       "      <td>Hot</td>\n",
       "      <td>4583.2</td>\n",
       "      <td>3961.7</td>\n",
       "      <td>2082.9</td>\n",
       "      <td>1030.2</td>\n",
       "      <td>551.7</td>\n",
       "      <td>...</td>\n",
       "      <td>107701</td>\n",
       "      <td>286481</td>\n",
       "      <td>275998</td>\n",
       "      <td>562479</td>\n",
       "      <td>14977</td>\n",
       "      <td>11109</td>\n",
       "      <td>2870</td>\n",
       "      <td>63228</td>\n",
       "      <td>120359</td>\n",
       "      <td>99407</td>\n",
       "    </tr>\n",
       "    <tr>\n",
       "      <th>3</th>\n",
       "      <td>4</td>\n",
       "      <td>Suburban</td>\n",
       "      <td>1281613.45</td>\n",
       "      <td>Outlet</td>\n",
       "      <td>Moderate</td>\n",
       "      <td>5772.3</td>\n",
       "      <td>4713.0</td>\n",
       "      <td>2140.1</td>\n",
       "      <td>1149.0</td>\n",
       "      <td>1162.2</td>\n",
       "      <td>...</td>\n",
       "      <td>23477</td>\n",
       "      <td>45764</td>\n",
       "      <td>43429</td>\n",
       "      <td>89193</td>\n",
       "      <td>5135</td>\n",
       "      <td>2426</td>\n",
       "      <td>512</td>\n",
       "      <td>10011</td>\n",
       "      <td>15485</td>\n",
       "      <td>9238</td>\n",
       "    </tr>\n",
       "    <tr>\n",
       "      <th>4</th>\n",
       "      <td>5</td>\n",
       "      <td>Urban</td>\n",
       "      <td>1278092.87</td>\n",
       "      <td>Outlet</td>\n",
       "      <td>Cold</td>\n",
       "      <td>3503.0</td>\n",
       "      <td>3239.0</td>\n",
       "      <td>1870.6</td>\n",
       "      <td>769.5</td>\n",
       "      <td>483.5</td>\n",
       "      <td>...</td>\n",
       "      <td>65968</td>\n",
       "      <td>157166</td>\n",
       "      <td>152880</td>\n",
       "      <td>310046</td>\n",
       "      <td>11249</td>\n",
       "      <td>6220</td>\n",
       "      <td>2311</td>\n",
       "      <td>32448</td>\n",
       "      <td>57978</td>\n",
       "      <td>74382</td>\n",
       "    </tr>\n",
       "  </tbody>\n",
       "</table>\n",
       "<p>5 rows × 37 columns</p>\n",
       "</div>"
      ]
     },
     "execution_count": 79,
     "metadata": {},
     "output_type": "execute_result"
    }
   ],
   "execution_count": 79
  },
  {
   "metadata": {
    "ExecuteTime": {
     "end_time": "2025-07-06T16:24:33.453707Z",
     "start_time": "2025-07-06T16:24:33.441380Z"
    }
   },
   "cell_type": "code",
   "source": [
    "df.drop(columns=[\"Store ID\"], inplace=True)\n",
    "df.dropna(inplace=True)\n",
    "df = pd.get_dummies(df, drop_first=True)\n"
   ],
   "id": "1f36638082119217",
   "outputs": [],
   "execution_count": 80
  },
  {
   "metadata": {
    "ExecuteTime": {
     "end_time": "2025-07-06T16:24:33.592617Z",
     "start_time": "2025-07-06T16:24:33.572374Z"
    }
   },
   "cell_type": "code",
   "source": [
    "X=df.drop(\"Sales\",axis=1)\n",
    "y=df[\"Sales\"]\n",
    "X=X.apply(pd.to_numeric).astype(float)"
   ],
   "id": "baa44988e7192c24",
   "outputs": [],
   "execution_count": 81
  },
  {
   "metadata": {
    "ExecuteTime": {
     "end_time": "2025-07-06T16:24:33.733315Z",
     "start_time": "2025-07-06T16:24:33.721288Z"
    }
   },
   "cell_type": "code",
   "source": [
    "X_train, X_test, y_train, y_test = train_test_split(X, y, test_size=0.2, random_state=42)\n",
    "\n",
    "selector = VarianceThreshold(threshold=0.01)\n",
    "X_train = pd.DataFrame(selector.fit_transform(X_train), columns=X_train.columns[selector.get_support()])\n",
    "X_test = X_test[X_train.columns]"
   ],
   "id": "99c2ebc0dd83f616",
   "outputs": [],
   "execution_count": 82
  },
  {
   "metadata": {
    "ExecuteTime": {
     "end_time": "2025-07-06T16:24:35.360060Z",
     "start_time": "2025-07-06T16:24:33.824785Z"
    }
   },
   "cell_type": "code",
   "source": [
    "#correlation matrix\n",
    "plt.figure(figsize=(18, 14))\n",
    "corr_matrix = X_train.corr()\n",
    "\n",
    "sns.heatmap(\n",
    "    corr_matrix,\n",
    "    cmap=\"coolwarm\",\n",
    "    annot=False,\n",
    "    square=True,\n",
    "    cbar_kws={'shrink': 0.75},\n",
    "    linewidths=0.5,\n",
    "    xticklabels=True,\n",
    "    yticklabels=True\n",
    ")\n",
    "\n",
    "plt.xticks(rotation=45, ha='right', fontsize=8)\n",
    "plt.yticks(fontsize=8)\n",
    "plt.title(\"Feature Correlation Matrix Before Removal\", fontsize=14, fontweight='bold')\n",
    "plt.tight_layout()\n",
    "\n",
    "correlation = \"correlation_matrix.png\"\n",
    "plt.savefig(correlation, dpi=300)\n",
    "plt.close()\n"
   ],
   "id": "2b6f6a4c6c5d74d3",
   "outputs": [],
   "execution_count": 83
  },
  {
   "metadata": {
    "ExecuteTime": {
     "end_time": "2025-07-06T16:24:35.466049Z",
     "start_time": "2025-07-06T16:24:35.455622Z"
    }
   },
   "cell_type": "code",
   "source": [
    "#Addressing Multicollinearity\n",
    "def multicollinearity(X,threshold=0.9):\n",
    "    correlation=X.corr().abs()\n",
    "    upper = correlation.where(np.triu(np.ones(correlation.shape), k=1).astype(bool))\n",
    "    to_drop = [column for column in upper.columns if any(upper[column] > threshold)]\n",
    "    print(f\"Dropping due to high correlation: {to_drop}\")\n",
    "    return X.drop(columns=to_drop), to_drop\n",
    "X_train_reduced, dropped_corr_features = multicollinearity(X_train)\n",
    "X_test = X_test[X_train_reduced.columns]"
   ],
   "id": "2da0fd6162d549dc",
   "outputs": [
    {
     "name": "stdout",
     "output_type": "stream",
     "text": [
      "Dropping due to high correlation: ['Sales Floor Sq Ft', 'Sex Males CrYr', 'Sex Females CrYr', 'Householder under 25 years:', 'Householder 25 to 44 years:', 'Family Inc: Aggregate Average', 'Wealth: Average Household', 'Poverty: In poverty', 'Male 14 to 35 CrYr', 'Female 14 to 35 CrYr', 'Total Pop 14 to 35 CrYr', 'Under 25 Low Income', 'Under 25 Med Income', 'Under 25 High Income', '25 to 44 Low Income', '25 to 44 Med Income', '25 to 44 High Income', 'Girls Segmentation_On Trend']\n"
     ]
    }
   ],
   "execution_count": 84
  },
  {
   "metadata": {
    "ExecuteTime": {
     "end_time": "2025-07-06T16:24:35.609777Z",
     "start_time": "2025-07-06T16:24:35.596482Z"
    }
   },
   "cell_type": "code",
   "source": [
    "X_train_sm=sm.add_constant(X_train_reduced.reset_index(drop=True))\n",
    "y_train_reset=y_train.reset_index(drop=True)\n",
    "model=sm.OLS(y_train_reset,X_train_sm).fit()"
   ],
   "id": "db1e3d608e8692c0",
   "outputs": [],
   "execution_count": 85
  },
  {
   "metadata": {
    "ExecuteTime": {
     "end_time": "2025-07-06T16:24:35.735019Z",
     "start_time": "2025-07-06T16:24:35.725710Z"
    }
   },
   "cell_type": "code",
   "source": [
    "X_test_sm=sm.add_constant(X_test.reset_index(drop=True))\n",
    "y_test_reset=y_test.reset_index(drop=True)\n",
    "pred_model=model.predict(X_test_sm)\n",
    "\n"
   ],
   "id": "c9264ba300b28ce6",
   "outputs": [],
   "execution_count": 86
  },
  {
   "metadata": {
    "ExecuteTime": {
     "end_time": "2025-07-06T16:24:35.839099Z",
     "start_time": "2025-07-06T16:24:35.832559Z"
    }
   },
   "cell_type": "code",
   "source": [
    "mape = np.mean(np.abs((y_test_reset - pred_model) / y_test_reset)) * 100\n",
    "mae = mean_absolute_error(y_test_reset, pred_model)\n",
    "rmse = np.sqrt(mean_squared_error(y_test_reset, pred_model))\n",
    "r2 = r2_score(y_test_reset,pred_model)\n",
    "performance_summary = pd.DataFrame({\n",
    "    'Metric': ['MAPE (%)', 'MAE', 'RMSE', 'R-squared'],\n",
    "    'Value': [round(mape, 2), round(mae, 2), round(rmse, 2), round(r2, 4)]\n",
    "})"
   ],
   "id": "656576f07ed2352",
   "outputs": [],
   "execution_count": 87
  },
  {
   "metadata": {
    "ExecuteTime": {
     "end_time": "2025-07-06T16:24:35.957293Z",
     "start_time": "2025-07-06T16:24:35.937756Z"
    }
   },
   "cell_type": "code",
   "source": [
    "html_table = model.summary().tables[1].as_html()\n",
    "coef_summary = pd.read_html(StringIO(html_table), header=0, index_col=0)[0]\n"
   ],
   "id": "5d40cd1cc9bdc238",
   "outputs": [],
   "execution_count": 88
  },
  {
   "metadata": {
    "ExecuteTime": {
     "end_time": "2025-07-06T16:24:36.181840Z",
     "start_time": "2025-07-06T16:24:36.045015Z"
    }
   },
   "cell_type": "code",
   "source": [
    "plt.figure(figsize=(8, 6))\n",
    "sns.scatterplot(x=y_test_reset, y=pred_model, color='blue', s=60)\n",
    "plt.plot([y_test_reset.min(), y_test_reset.max()], [y_test_reset.min(), y_test_reset.max()],'r--')\n",
    "plt.xlabel(\"Actual Sales\")\n",
    "plt.ylabel(\"Predicted Sales\")\n",
    "plt.title(\"Actual vs Predicted Sales\")\n",
    "plt.tight_layout()\n",
    "plot1 = \"actual_vs_predicted.png\"\n",
    "plt.savefig(plot1)\n",
    "plt.close()\n"
   ],
   "id": "efd9c022c954018e",
   "outputs": [],
   "execution_count": 89
  },
  {
   "metadata": {
    "ExecuteTime": {
     "end_time": "2025-07-06T16:24:36.480658Z",
     "start_time": "2025-07-06T16:24:36.294386Z"
    }
   },
   "cell_type": "code",
   "source": [
    "residuals = y_test_reset - pred_model\n",
    "plt.figure(figsize=(8, 6))\n",
    "sns.residplot(x=pred_model, y=residuals, lowess=True, color=\"purple\", line_kws={'color': 'red'})\n",
    "plt.xlabel(\"Predicted Sales\")\n",
    "plt.ylabel(\"Residuals\")\n",
    "plt.title(\"Residual Plot\")\n",
    "plt.tight_layout()\n",
    "plot2 = \"residual_plot.png\"\n",
    "plt.savefig(plot2)\n",
    "plt.close()\n"
   ],
   "id": "bda1f78201934344",
   "outputs": [],
   "execution_count": 90
  },
  {
   "metadata": {
    "ExecuteTime": {
     "end_time": "2025-07-06T16:24:36.601961Z",
     "start_time": "2025-07-06T16:24:36.586033Z"
    }
   },
   "cell_type": "code",
   "source": [
    "model_summary= model.summary().as_text()\n",
    "model_summary_df = pd.DataFrame(model_summary.splitlines(), columns=[\"Model Summary\"])\n"
   ],
   "id": "dbf0876a976b4b03",
   "outputs": [],
   "execution_count": 91
  },
  {
   "metadata": {
    "ExecuteTime": {
     "end_time": "2025-07-06T16:24:36.743040Z",
     "start_time": "2025-07-06T16:24:36.696506Z"
    }
   },
   "cell_type": "code",
   "source": [
    "excel= \"Model Report.xlsx\"\n",
    "with pd.ExcelWriter(excel, engine=\"xlsxwriter\") as writer:\n",
    "    performance_summary.to_excel(writer, sheet_name=\"Model Performance\", index=False)\n",
    "    coef_summary.to_excel(writer, sheet_name=\"Model Coefficients\")\n",
    "    pd.DataFrame({'Dropped_Features': dropped_corr_features}).to_excel(writer, sheet_name=\"Dropped Correlated\")\n",
    "    model_summary_df.to_excel(writer, sheet_name=\"OLS Summary\", index=False)"
   ],
   "id": "cf842a7772abc30e",
   "outputs": [],
   "execution_count": 92
  },
  {
   "metadata": {
    "ExecuteTime": {
     "end_time": "2025-07-06T16:24:37.048693Z",
     "start_time": "2025-07-06T16:24:36.857566Z"
    }
   },
   "cell_type": "code",
   "source": [
    "wb = load_workbook(excel)\n",
    "ws = wb[\"Model Performance\"]\n",
    "\n",
    "img1 = XLImage(plot1)\n",
    "img1.width, img1.height = 480, 360\n",
    "ws.add_image(img1, \"E5\")\n",
    "\n",
    "img2 = XLImage(plot2)\n",
    "img2.width, img2.height = 480, 360\n",
    "ws.add_image(img2, \"E25\")\n",
    "\n",
    "img3 = XLImage(correlation)\n",
    "img3.width, img3.height = 600, 480\n",
    "ws.add_image(img3, \"E45\")\n",
    "\n",
    "wb.save(excel)\n",
    "\n",
    "os.remove(plot1)\n",
    "os.remove(plot2)\n",
    "os.remove(correlation)\n",
    "\n",
    "print(f\"Report saved as: {excel}\")\n"
   ],
   "id": "2707c1b79159a0d2",
   "outputs": [
    {
     "name": "stdout",
     "output_type": "stream",
     "text": [
      "Report saved as: Model Report.xlsx\n"
     ]
    }
   ],
   "execution_count": 93
  }
 ],
 "metadata": {
  "kernelspec": {
   "display_name": "Python 3",
   "language": "python",
   "name": "python3"
  },
  "language_info": {
   "codemirror_mode": {
    "name": "ipython",
    "version": 2
   },
   "file_extension": ".py",
   "mimetype": "text/x-python",
   "name": "python",
   "nbconvert_exporter": "python",
   "pygments_lexer": "ipython2",
   "version": "2.7.6"
  }
 },
 "nbformat": 4,
 "nbformat_minor": 5
}
