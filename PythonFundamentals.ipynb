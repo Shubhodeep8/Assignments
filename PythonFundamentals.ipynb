{
 "cells": [
  {
   "cell_type": "code",
   "execution_count": null,
   "id": "initial_id",
   "metadata": {
    "collapsed": true
   },
   "outputs": [],
   "source": [
    "from shlex import split\n",
    "\n",
    "from annotated_types import UpperCase\n",
    "\n",
    "#Question 1:Write a program which takes 2 digits, X,Y as input and generates a 2-dimensional array.\n",
    "#The element value in the i-th row and j-th column of the array should be i*j.\n",
    "\n",
    "a=input(\"Enter 2 numbers: \")\n",
    "x,y=a.split(\",\")\n",
    "x=int(x)\n",
    "y=int(y)\n",
    "\n",
    "result=[]\n",
    "\n",
    "for i in range(x):\n",
    "    row=[]\n",
    "    for j in range(y):\n",
    "        row.append(i*j)\n",
    "    result.append(row)\n",
    "print(result)"
   ]
  },
  {
   "metadata": {
    "ExecuteTime": {
     "end_time": "2025-05-23T07:02:25.923631Z",
     "start_time": "2025-05-23T07:02:15.080587Z"
    }
   },
   "cell_type": "code",
   "source": [
    "#Question2Write a program that accepts a comma separated sequence of words as input and prints the words in a comma-separated sequence after sorting them alphabetically.\n",
    "a=input(\"Enter some Words :\")\n",
    "words=a.split(\",\")\n",
    "words.sort()\n",
    "print(words)\n",
    "\n"
   ],
   "id": "fbd393ddf2bde010",
   "outputs": [
    {
     "name": "stdout",
     "output_type": "stream",
     "text": [
      "['apple', 'bags', 'college']\n"
     ]
    }
   ],
   "execution_count": 2
  },
  {
   "metadata": {
    "ExecuteTime": {
     "end_time": "2025-05-27T06:25:43.041119Z",
     "start_time": "2025-05-27T06:25:40.695683Z"
    }
   },
   "cell_type": "code",
   "source": [
    "#Question 3:Write a program that accepts a sequence of whitespace separated words as input and prints the words after removing all duplicate words and sorting them alphanumerically.\n",
    "\n",
    "x = input(\"Enter some words: \")\n",
    "a = x.replace(\",\",\" \").split()\n",
    "sorted_words = sorted(set(a))  #Remove duplicates using set() and sorts using sorted()\n",
    "output_words = \" \".join(sorted_words) #Join the words into single string\n",
    "print(output_words)\n",
    "\n"
   ],
   "id": "c95bcc58d1cfdb30",
   "outputs": [
    {
     "name": "stdout",
     "output_type": "stream",
     "text": [
      "again and hello makes perfect practice world\n"
     ]
    }
   ],
   "execution_count": 11
  },
  {
   "metadata": {
    "ExecuteTime": {
     "end_time": "2025-05-27T06:43:02.230021Z",
     "start_time": "2025-05-27T06:43:02.224010Z"
    }
   },
   "cell_type": "code",
   "source": [
    "#Question 4:Write a program, which will find all such numbers between 1000 and 3000 (both included) such that each digit of the number is an even number.\n",
    "result=[]\n",
    "for i in range(1000,3001):\n",
    "    number= str(i)\n",
    "    if all(int(digit) %2 == 0 for digit in number):\n",
    "        result.append(number)\n",
    "print(result)\n",
    "\n"
   ],
   "id": "bb3dff7a7a9c7dd6",
   "outputs": [
    {
     "name": "stdout",
     "output_type": "stream",
     "text": [
      "['2000', '2002', '2004', '2006', '2008', '2020', '2022', '2024', '2026', '2028', '2040', '2042', '2044', '2046', '2048', '2060', '2062', '2064', '2066', '2068', '2080', '2082', '2084', '2086', '2088', '2200', '2202', '2204', '2206', '2208', '2220', '2222', '2224', '2226', '2228', '2240', '2242', '2244', '2246', '2248', '2260', '2262', '2264', '2266', '2268', '2280', '2282', '2284', '2286', '2288', '2400', '2402', '2404', '2406', '2408', '2420', '2422', '2424', '2426', '2428', '2440', '2442', '2444', '2446', '2448', '2460', '2462', '2464', '2466', '2468', '2480', '2482', '2484', '2486', '2488', '2600', '2602', '2604', '2606', '2608', '2620', '2622', '2624', '2626', '2628', '2640', '2642', '2644', '2646', '2648', '2660', '2662', '2664', '2666', '2668', '2680', '2682', '2684', '2686', '2688', '2800', '2802', '2804', '2806', '2808', '2820', '2822', '2824', '2826', '2828', '2840', '2842', '2844', '2846', '2848', '2860', '2862', '2864', '2866', '2868', '2880', '2882', '2884', '2886', '2888']\n"
     ]
    }
   ],
   "execution_count": 17
  },
  {
   "metadata": {
    "ExecuteTime": {
     "end_time": "2025-05-27T06:56:47.469076Z",
     "start_time": "2025-05-27T06:55:44.255748Z"
    }
   },
   "cell_type": "code",
   "source": [
    "#Question 5:Write a program that accepts a sentence and calculate the number of letters and digits.\n",
    "\n",
    "x=input(\"Enter a sentence: \")\n",
    "a=x.split(\",\")\n",
    "text=\" \".join(a)\n",
    "letter=0\n",
    "digit=0\n",
    "\n",
    "for char in text:\n",
    "    if char.isalpha():\n",
    "        letter +=1\n",
    "    elif char.isdigit():\n",
    "        digit +=1\n",
    "\n",
    "print(\"Letter : {}\".format(letter))\n",
    "print(\"Digit : {}\".format(digit))\n",
    "\n"
   ],
   "id": "59ad5dad09861e",
   "outputs": [
    {
     "name": "stdout",
     "output_type": "stream",
     "text": [
      "Letter : 10\n",
      "Digit : 3\n"
     ]
    }
   ],
   "execution_count": null
  },
  {
   "metadata": {
    "ExecuteTime": {
     "end_time": "2025-05-27T07:03:37.234048Z",
     "start_time": "2025-05-27T07:03:25.585479Z"
    }
   },
   "cell_type": "code",
   "source": [
    "#Question 6:Write a program that accepts a sentence and calculate the number of upper case letters and lower case letters.\n",
    "\n",
    "x=input(\"Enter a Sentence: \")\n",
    "a=x.split(\",\")\n",
    "text=\" \".join(a)\n",
    "upperCase_letter=0\n",
    "lowerCase_letter=0\n",
    "\n",
    "for char in text:\n",
    "    if char.isupper():\n",
    "        upperCase_letter +=1\n",
    "    elif char.islower():\n",
    "        lowerCase_letter +=1\n",
    "print(\"Uppercase :\",upperCase_letter)\n",
    "print(\"Lowercase :\",lowerCase_letter)\n"
   ],
   "id": "8ed2bfc6951bef",
   "outputs": [
    {
     "name": "stdout",
     "output_type": "stream",
     "text": [
      "Uppercase : 2\n",
      "Lowercase : 16\n"
     ]
    }
   ],
   "execution_count": 27
  },
  {
   "metadata": {
    "ExecuteTime": {
     "end_time": "2025-05-27T07:28:38.007788Z",
     "start_time": "2025-05-27T07:28:19.353003Z"
    }
   },
   "cell_type": "code",
   "source": [
    "#Question 7:Write a program that computes the net amount of a bank account based a transaction log from console input\n",
    "net_amount=0\n",
    "\n",
    "while True:\n",
    "    x=input(\"Enter D/W or DONE: \").upper()\n",
    "\n",
    "    if x == 'DONE':\n",
    "        break\n",
    "    if x not in ['D','W']:\n",
    "        print(\"Invalid Transaction type.Enter D,W or DONE\")\n",
    "        continue\n",
    "    amount=int(input(\"Enter Amount : \"))\n",
    "    if x == 'D':\n",
    "       net_amount += amount\n",
    "    elif x == 'W':\n",
    "       net_amount -= amount\n",
    "print(\"Net Amount : \",net_amount)\n",
    "\n"
   ],
   "id": "6ee22975fd9f9792",
   "outputs": [
    {
     "name": "stdout",
     "output_type": "stream",
     "text": [
      "Net Amount :  2500\n"
     ]
    }
   ],
   "execution_count": 4
  },
  {
   "metadata": {},
   "cell_type": "code",
   "outputs": [],
   "execution_count": null,
   "source": "#Question 8:A website requires the users to input username and password to register. Write a program to check the validity of password input by users.",
   "id": "9cfaef553500aafd"
  }
 ],
 "metadata": {
  "kernelspec": {
   "display_name": "Python 3",
   "language": "python",
   "name": "python3"
  },
  "language_info": {
   "codemirror_mode": {
    "name": "ipython",
    "version": 2
   },
   "file_extension": ".py",
   "mimetype": "text/x-python",
   "name": "python",
   "nbconvert_exporter": "python",
   "pygments_lexer": "ipython2",
   "version": "2.7.6"
  }
 },
 "nbformat": 4,
 "nbformat_minor": 5
}
