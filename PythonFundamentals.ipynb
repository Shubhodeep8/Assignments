{
 "cells": [
  {
   "cell_type": "code",
   "execution_count": null,
   "id": "initial_id",
   "metadata": {
    "collapsed": true
   },
   "outputs": [],
   "source": [
    "#Question 1\n",
    "a=input(\"Enter 2 numbers: \")\n",
    "x,y=a.split(\",\")\n",
    "x=int(x)\n",
    "y=int(y)\n",
    "\n",
    "result=[]\n",
    "\n",
    "for i in range(x):\n",
    "    row=[]\n",
    "    for j in range(y):\n",
    "        row.append(i*j)\n",
    "    result.append(row)\n",
    "print(result)"
   ]
  }
 ],
 "metadata": {
  "kernelspec": {
   "display_name": "Python 3",
   "language": "python",
   "name": "python3"
  },
  "language_info": {
   "codemirror_mode": {
    "name": "ipython",
    "version": 2
   },
   "file_extension": ".py",
   "mimetype": "text/x-python",
   "name": "python",
   "nbconvert_exporter": "python",
   "pygments_lexer": "ipython2",
   "version": "2.7.6"
  }
 },
 "nbformat": 4,
 "nbformat_minor": 5
}
