{
 "cells": [
  {
   "cell_type": "code",
   "execution_count": null,
   "id": "initial_id",
   "metadata": {
    "collapsed": true
   },
   "outputs": [],
   "source": [
    "from locale import currency\n",
    "from shlex import split\n",
    "\n",
    "from annotated_types import UpperCase\n",
    "from sympy import false\n",
    "from tenacity import retry_unless_exception_type\n",
    "\n",
    "#Question 1:Write a program which takes 2 digits, X,Y as input and generates a 2-dimensional array.\n",
    "#The element value in the i-th row and j-th column of the array should be i*j.\n",
    "\n",
    "a = input(\"Enter 2 numbers: \")\n",
    "x, y = a.split(\",\")\n",
    "x = int(x)\n",
    "y = int(y)\n",
    "\n",
    "result = []\n",
    "\n",
    "for i in range(x):\n",
    "    row = []\n",
    "    for j in range(y):\n",
    "        row.append(i * j)\n",
    "    result.append(row)\n",
    "print(result)"
   ]
  },
  {
   "metadata": {
    "ExecuteTime": {
     "end_time": "2025-05-23T07:02:25.923631Z",
     "start_time": "2025-05-23T07:02:15.080587Z"
    }
   },
   "cell_type": "code",
   "source": [
    "#Question2Write a program that accepts a comma separated sequence of words as input and prints the words in a comma-separated sequence after sorting them alphabetically.\n",
    "a = input(\"Enter some Words :\")\n",
    "words = a.split(\",\")\n",
    "words.sort()\n",
    "print(words)\n",
    "\n"
   ],
   "id": "fbd393ddf2bde010",
   "outputs": [
    {
     "name": "stdout",
     "output_type": "stream",
     "text": [
      "['apple', 'bags', 'college']\n"
     ]
    }
   ],
   "execution_count": 2
  },
  {
   "metadata": {
    "ExecuteTime": {
     "end_time": "2025-05-27T06:25:43.041119Z",
     "start_time": "2025-05-27T06:25:40.695683Z"
    }
   },
   "cell_type": "code",
   "source": [
    "#Question 3:Write a program that accepts a sequence of whitespace separated words as input and prints the words after removing all duplicate words and sorting them alphanumerically.\n",
    "\n",
    "x = input(\"Enter some words: \")\n",
    "a = x.replace(\",\", \" \").split()\n",
    "sorted_words = sorted(set(a))  #Remove duplicates using set() and sorts using sorted()\n",
    "output_words = \" \".join(sorted_words)  #Join the words into single string\n",
    "print(output_words)\n",
    "\n"
   ],
   "id": "c95bcc58d1cfdb30",
   "outputs": [
    {
     "name": "stdout",
     "output_type": "stream",
     "text": [
      "again and hello makes perfect practice world\n"
     ]
    }
   ],
   "execution_count": 11
  },
  {
   "metadata": {
    "ExecuteTime": {
     "end_time": "2025-05-27T06:43:02.230021Z",
     "start_time": "2025-05-27T06:43:02.224010Z"
    }
   },
   "cell_type": "code",
   "source": [
    "#Question 4:Write a program, which will find all such numbers between 1000 and 3000 (both included) such that each digit of the number is an even number.\n",
    "result = []\n",
    "for i in range(1000, 3001):\n",
    "    number = str(i)\n",
    "    if all(int(digit) % 2 == 0 for digit in number):\n",
    "        result.append(number)\n",
    "print(result)\n",
    "\n"
   ],
   "id": "bb3dff7a7a9c7dd6",
   "outputs": [
    {
     "name": "stdout",
     "output_type": "stream",
     "text": [
      "['2000', '2002', '2004', '2006', '2008', '2020', '2022', '2024', '2026', '2028', '2040', '2042', '2044', '2046', '2048', '2060', '2062', '2064', '2066', '2068', '2080', '2082', '2084', '2086', '2088', '2200', '2202', '2204', '2206', '2208', '2220', '2222', '2224', '2226', '2228', '2240', '2242', '2244', '2246', '2248', '2260', '2262', '2264', '2266', '2268', '2280', '2282', '2284', '2286', '2288', '2400', '2402', '2404', '2406', '2408', '2420', '2422', '2424', '2426', '2428', '2440', '2442', '2444', '2446', '2448', '2460', '2462', '2464', '2466', '2468', '2480', '2482', '2484', '2486', '2488', '2600', '2602', '2604', '2606', '2608', '2620', '2622', '2624', '2626', '2628', '2640', '2642', '2644', '2646', '2648', '2660', '2662', '2664', '2666', '2668', '2680', '2682', '2684', '2686', '2688', '2800', '2802', '2804', '2806', '2808', '2820', '2822', '2824', '2826', '2828', '2840', '2842', '2844', '2846', '2848', '2860', '2862', '2864', '2866', '2868', '2880', '2882', '2884', '2886', '2888']\n"
     ]
    }
   ],
   "execution_count": 17
  },
  {
   "metadata": {
    "ExecuteTime": {
     "end_time": "2025-05-27T06:56:47.469076Z",
     "start_time": "2025-05-27T06:55:44.255748Z"
    }
   },
   "cell_type": "code",
   "source": [
    "#Question 5:Write a program that accepts a sentence and calculate the number of letters and digits.\n",
    "\n",
    "x = input(\"Enter a sentence: \")\n",
    "a = x.split(\",\")\n",
    "text = \" \".join(a)\n",
    "letter = 0\n",
    "digit = 0\n",
    "\n",
    "for char in text:\n",
    "    if char.isalpha():\n",
    "        letter += 1\n",
    "    elif char.isdigit():\n",
    "        digit += 1\n",
    "\n",
    "print(\"Letter : {}\".format(letter))\n",
    "print(\"Digit : {}\".format(digit))\n",
    "\n"
   ],
   "id": "59ad5dad09861e",
   "outputs": [
    {
     "name": "stdout",
     "output_type": "stream",
     "text": [
      "Letter : 10\n",
      "Digit : 3\n"
     ]
    }
   ],
   "execution_count": null
  },
  {
   "metadata": {
    "ExecuteTime": {
     "end_time": "2025-05-27T07:03:37.234048Z",
     "start_time": "2025-05-27T07:03:25.585479Z"
    }
   },
   "cell_type": "code",
   "source": [
    "#Question 6:Write a program that accepts a sentence and calculate the number of upper case letters and lower case letters.\n",
    "\n",
    "x = input(\"Enter a Sentence: \")\n",
    "a = x.split(\",\")\n",
    "text = \" \".join(a)\n",
    "upperCase_letter = 0\n",
    "lowerCase_letter = 0\n",
    "\n",
    "for char in text:\n",
    "    if char.isupper():\n",
    "        upperCase_letter += 1\n",
    "    elif char.islower():\n",
    "        lowerCase_letter += 1\n",
    "print(\"Uppercase :\", upperCase_letter)\n",
    "print(\"Lowercase :\", lowerCase_letter)\n"
   ],
   "id": "8ed2bfc6951bef",
   "outputs": [
    {
     "name": "stdout",
     "output_type": "stream",
     "text": [
      "Uppercase : 2\n",
      "Lowercase : 16\n"
     ]
    }
   ],
   "execution_count": 27
  },
  {
   "metadata": {
    "ExecuteTime": {
     "end_time": "2025-05-27T09:27:08.564141Z",
     "start_time": "2025-05-27T09:26:52.642535Z"
    }
   },
   "cell_type": "code",
   "source": [
    "#Question 7:Write a program that computes the net amount of a bank account based a transaction log from console input\n",
    "net_amount = 0\n",
    "\n",
    "while True:\n",
    "    x = input(\"Enter D/W or DONE: \").upper()\n",
    "\n",
    "    if x == 'DONE':\n",
    "        break\n",
    "    if x not in ['D', 'W']:\n",
    "        print(\"Invalid Transaction type.Enter D,W or DONE\")\n",
    "        continue\n",
    "    amount = int(input(\"Enter Amount : \"))\n",
    "    if x == 'D':\n",
    "        net_amount += amount\n",
    "    elif x == 'W':\n",
    "        net_amount -= amount\n",
    "print(\"Net Amount : \", net_amount)\n",
    "\n"
   ],
   "id": "6ee22975fd9f9792",
   "outputs": [
    {
     "name": "stdout",
     "output_type": "stream",
     "text": [
      "Net Amount :  1500\n"
     ]
    }
   ],
   "execution_count": 32
  },
  {
   "metadata": {
    "ExecuteTime": {
     "end_time": "2025-05-27T08:56:34.513514Z",
     "start_time": "2025-05-27T08:56:32.435117Z"
    }
   },
   "cell_type": "code",
   "source": [
    "#Question 8:A website requires the users to input username and password to register. Write a program to check the validity of password input by users.\n",
    "\n",
    "a = input(\"Enter password : \")\n",
    "\n",
    "passwords = a.split(\",\")\n",
    "valid_password = []\n",
    "\n",
    "for pwd in passwords:\n",
    "    pwd = pwd.strip()\n",
    "\n",
    "    lower = False\n",
    "    upper = False\n",
    "    digit = False\n",
    "    special = False\n",
    "\n",
    "    if 6 <= len(pwd) <= 12:\n",
    "        for char in pwd:\n",
    "            if char.islower():\n",
    "                lower = True\n",
    "            elif char.isupper():\n",
    "                upper = True\n",
    "            elif char.isdigit():\n",
    "                digit = True\n",
    "            elif char in '$#@':\n",
    "                special = True\n",
    "        if lower and upper and digit and special:\n",
    "            valid_password.append(pwd)\n",
    "print(\",\".join(valid_password))\n",
    "\n"
   ],
   "id": "9cfaef553500aafd",
   "outputs": [
    {
     "name": "stdout",
     "output_type": "stream",
     "text": [
      "ABd1234@1\n"
     ]
    }
   ],
   "execution_count": 10
  },
  {
   "metadata": {
    "ExecuteTime": {
     "end_time": "2025-05-27T09:12:35.258517Z",
     "start_time": "2025-05-27T09:12:35.253601Z"
    }
   },
   "cell_type": "code",
   "source": [
    "#Question 9:You are required to write a program to sort the (name, age, height) tuples by ascending order where name is string, age and height are numbers. The tuples are input by console\n",
    "information = [(\"Tom\",19,80),\n",
    "               (\"John\",20,90),\n",
    "               (\"Jony\",17,91),\n",
    "               (\"Jony\",17,93),\n",
    "               (\"Json\",21,85),\n",
    "               ]\n",
    "information.sort()\n",
    "result=[(name,str(age),str(height)) for name,age,height in information]\n",
    "print(result)\n",
    "\n",
    "#for i in information:\n",
    "# name,age,height=i\n",
    "#    print(\"name:{},age={},height={}\".format(name,age,height))\n"
   ],
   "id": "486fdbeea7bbd712",
   "outputs": [
    {
     "name": "stdout",
     "output_type": "stream",
     "text": [
      "[('John', '20', '90'), ('Jony', '17', '91'), ('Jony', '17', '93'), ('Json', '21', '85'), ('Tom', '19', '80')]\n"
     ]
    }
   ],
   "execution_count": 25
  },
  {
   "metadata": {
    "ExecuteTime": {
     "end_time": "2025-05-27T11:28:39.140136Z",
     "start_time": "2025-05-27T11:27:53.236663Z"
    }
   },
   "cell_type": "code",
   "source": [
    "#Question 10:A robot moves in a plane starting from the original point (0,0). The robot can move toward UP, DOWN, LEFT and RIGHT with a given steps.\n",
    "\n",
    "import math\n",
    "x=0\n",
    "y=0\n",
    "\n",
    "while True:\n",
    "    instruction=input(\"Enter Direction or 'DONE': \")\n",
    "\n",
    "    if instruction == 'DONE':\n",
    "        break\n",
    "\n",
    "    direction,steps=instruction.split()\n",
    "    steps=int(steps)\n",
    "\n",
    "    if direction == \"UP\":\n",
    "        y+=steps\n",
    "    elif direction == \"DOWN\":\n",
    "        y-=steps\n",
    "    elif direction == \"LEFT\":\n",
    "        x-=steps\n",
    "    elif direction == \"RIGHT\":\n",
    "        x+=steps\n",
    "distance=math.sqrt(x**2 + y**2)\n",
    "print(round(distance))"
   ],
   "id": "2d2e6cdb2dcda303",
   "outputs": [
    {
     "name": "stdout",
     "output_type": "stream",
     "text": [
      "4\n"
     ]
    }
   ],
   "execution_count": 38
  },
  {
   "metadata": {
    "ExecuteTime": {
     "end_time": "2025-05-27T11:51:26.687391Z",
     "start_time": "2025-05-27T11:51:23.639805Z"
    }
   },
   "cell_type": "code",
   "source": [
    "#Question 11:Find the continuous occurrence of the string.\n",
    "\n",
    "x=input(\"Enter a string: \")\n",
    "x=x.lower()\n",
    "count=1\n",
    "result=\"\"\n",
    "for i in range(1,len(x)):\n",
    "    if x[i]==x[i-1]:\n",
    "        count +=1\n",
    "    else:\n",
    "        result += x[i-1]+str(count)\n",
    "        count=1\n",
    "result += x[-1] + str(count)\n",
    "print(result)"
   ],
   "id": "eb697e3a729a2808",
   "outputs": [
    {
     "name": "stdout",
     "output_type": "stream",
     "text": [
      "a2b2c1d1e2f3a2b2c2\n"
     ]
    }
   ],
   "execution_count": 2
  },
  {
   "metadata": {
    "ExecuteTime": {
     "end_time": "2025-05-27T12:21:37.340009Z",
     "start_time": "2025-05-27T12:20:03.266780Z"
    }
   },
   "cell_type": "code",
   "source": [
    "#Question 12:Find the pair of alphabets in an alphanumeric string whose sum of numbers in between is always\n",
    "\n",
    "x=input(\"Enter a Alphanumerical string: \")\n",
    "\n",
    "letter=\"\"\n",
    "total=0\n",
    "\n",
    "for i in x:\n",
    "    if i.isalpha():\n",
    "        if letter != \"\" and total == 9:\n",
    "            print(letter+\",\"+i)\n",
    "        letter=i\n",
    "        total=0\n",
    "    elif i.isdigit():\n",
    "        total += int(i)"
   ],
   "id": "33cd47b3bcc0277",
   "outputs": [
    {
     "name": "stdout",
     "output_type": "stream",
     "text": [
      "b,c\n",
      "d,f\n",
      "f,d\n",
      "e,x\n"
     ]
    }
   ],
   "execution_count": 5
  },
  {
   "metadata": {
    "ExecuteTime": {
     "end_time": "2025-05-28T05:21:44.969821Z",
     "start_time": "2025-05-28T05:21:39.393089Z"
    }
   },
   "cell_type": "code",
   "source": [
    "#Question 13 Find how many pairs in a binary number that starts and ends with 1\n",
    "\n",
    "x=input(\"Enter a binary number: \")\n",
    "count = x.count('1')\n",
    "y= count*(count - 1) // 2\n",
    "print(y)\n"
   ],
   "id": "5d5192fd5d9c6c35",
   "outputs": [
    {
     "name": "stdout",
     "output_type": "stream",
     "text": [
      "3\n"
     ]
    }
   ],
   "execution_count": 3
  },
  {
   "metadata": {
    "ExecuteTime": {
     "end_time": "2025-05-28T06:04:03.055091Z",
     "start_time": "2025-05-28T06:03:44.942403Z"
    }
   },
   "cell_type": "code",
   "source": [
    "#Question 14 Find the minimum possible denominations for given valid currency.\n",
    "\n",
    "def min_denominations(currency,total):\n",
    "    currency.sort(reverse=True)\n",
    "    result={}\n",
    "    for i in currency:\n",
    "        if total>=i:\n",
    "            count=total//i\n",
    "            result[i]=count\n",
    "            total -= i*count\n",
    "    for i,count in result.items():\n",
    "        print(f\"{i}-{count}\")\n",
    "\n",
    "x=input(\"Enter Currency Notes: \")\n",
    "currency=[int(y) for y in x.split(\",\")]\n",
    "total=int(input(\"Enter the amount : \"))\n",
    "min_denominations(currency,total)\n"
   ],
   "id": "2bdd3cf956820bb8",
   "outputs": [
    {
     "name": "stdout",
     "output_type": "stream",
     "text": [
      "500-2\n"
     ]
    }
   ],
   "execution_count": 7
  },
  {
   "metadata": {
    "ExecuteTime": {
     "end_time": "2025-05-28T06:23:16.273651Z",
     "start_time": "2025-05-28T06:23:02.761041Z"
    }
   },
   "cell_type": "code",
   "source": [
    "#Question 15:There is a bus travelling from Town A to Town B. There are n stops between them and bus has to make m stops.Find the numbery of ways in the travel so that no stop is consecutive\n",
    "\n",
    "import math\n",
    "\n",
    "def count_ways(n,m):\n",
    "    if n<2*m-1:\n",
    "        return\n",
    "    return math.comb(n-m+1,m)\n",
    "n=int(input(\"Enter number of stops between town: \"))\n",
    "m=int(input(\"Enter how many stops bus has to make: \"))\n",
    "x=count_ways(n,m)\n",
    "print(\"Number of ways: \",x)"
   ],
   "id": "d96137b414389335",
   "outputs": [
    {
     "name": "stdout",
     "output_type": "stream",
     "text": [
      "Number of ways:  126\n"
     ]
    }
   ],
   "execution_count": 9
  },
  {
   "metadata": {
    "ExecuteTime": {
     "end_time": "2025-05-28T06:49:49.183757Z",
     "start_time": "2025-05-28T06:49:05.837163Z"
    }
   },
   "cell_type": "code",
   "source": [
    "#Question 16:A gaming company wants to create an App with multiple games.\n",
    "\n",
    "def game(a,b):\n",
    "    if a == b:\n",
    "        return \"DRAW\"\n",
    "    elif (a == \"Stone\" and b == \"Scissor\") or \\\n",
    "            (a == \"Scissor\" and b == \"Paper\") or \\\n",
    "            (a == \"Paper\" and b == \"Stone\"):\n",
    "        return \"Player A wins\"\n",
    "    else:\n",
    "        return \"Player B wins\"\n",
    "score_a=0\n",
    "score_b=0\n",
    "round_number=1\n",
    "print(\"{} {} {} \".format(\"Player A\",\"Player B\",\"Result\"))\n",
    "\n",
    "while score_a < 5 and score_b < 5:\n",
    "    a=input(\"Player A : \")\n",
    "    b=input(\"Player B: \")\n",
    "    result=game(a,b)\n",
    "    print(\"Result : \",result)\n",
    "\n",
    "    if result == \"Player A wins\":\n",
    "        score_a +=1\n",
    "    elif result == \"Player B wins\":\n",
    "        score_b +=1\n",
    "    print(\"{:<10} {:<10} {:<15}\".format(a, b, result))\n",
    "    round_number += 1\n",
    "print(\"\\n Game Over\")\n",
    "if score_a == 5:\n",
    "    print(\"Player A wins\")\n",
    "else:\n",
    "    print(\"Player B wins\")"
   ],
   "id": "f9f31211ed8f7f09",
   "outputs": [
    {
     "name": "stdout",
     "output_type": "stream",
     "text": [
      "Player A Player B Result \n",
      "Result :  Player B wins\n",
      "Stone      Paper      Player B wins  \n",
      "Result :  DRAW\n",
      "Scissor    Scissor    DRAW           \n",
      "Result :  Player B wins\n",
      "stone      paper      Player B wins  \n",
      "Result :  Player B wins\n",
      "scissor    paper      Player B wins  \n",
      "Result :  Player B wins\n",
      "paper      stone      Player B wins  \n",
      "Result :  Player B wins\n",
      "paper      stone      Player B wins  \n",
      "\n",
      " Game Over\n",
      "Player B wins\n"
     ]
    }
   ],
   "execution_count": 13
  },
  {
   "metadata": {
    "ExecuteTime": {
     "end_time": "2025-05-28T07:03:04.416124Z",
     "start_time": "2025-05-28T07:03:02.054246Z"
    }
   },
   "cell_type": "code",
   "source": [
    "#Question 17:Validate Email Address:\n",
    "\n",
    "def valid_email(x):\n",
    "    if x.count(\"@\") !=1:\n",
    "        return False\n",
    "    for i in x:\n",
    "        if i.islower() or i.isdigit() or i in ['@','.','_']:\n",
    "            continue\n",
    "        else:\n",
    "            return False\n",
    "    return True\n",
    "x=input(\"Enter an Email Address: \")\n",
    "if valid_email(x):\n",
    "    print(\"Valid Email\")\n",
    "else:\n",
    "    print(\"Invalid Mail\")\n"
   ],
   "id": "b8c46b1e9b7fe581",
   "outputs": [
    {
     "name": "stdout",
     "output_type": "stream",
     "text": [
      "Valid Email\n"
     ]
    }
   ],
   "execution_count": 17
  },
  {
   "metadata": {
    "ExecuteTime": {
     "end_time": "2025-05-27T19:00:54.751374Z",
     "start_time": "2025-05-27T19:00:54.747579Z"
    }
   },
   "cell_type": "code",
   "source": [
    "#Question18(a)\n",
    "x=4\n",
    "n=1\n",
    "for i in range(1,x+1):\n",
    "    row=[]\n",
    "    for j in range(i):\n",
    "        row.append(str(n))\n",
    "        n+=1\n",
    "    print(\"*\".join(row))\n",
    "\n"
   ],
   "id": "77b77624ed7d8d5e",
   "outputs": [
    {
     "name": "stdout",
     "output_type": "stream",
     "text": [
      "1\n",
      "2*3\n",
      "4*5*6\n",
      "7*8*9*10\n"
     ]
    }
   ],
   "execution_count": 12
  },
  {
   "metadata": {
    "ExecuteTime": {
     "end_time": "2025-05-27T19:01:56.771894Z",
     "start_time": "2025-05-27T19:01:56.767517Z"
    }
   },
   "cell_type": "code",
   "source": [
    "#Question 18(b)\n",
    "\n",
    "x = 4\n",
    "for i in range(1, x + 1):\n",
    "    print(' ' * (x - i) + '* ' * i)\n",
    "for j in range(x - 1, 0, -1):\n",
    "    print(' ' * (x - j) + '* ' * j)"
   ],
   "id": "17b7ef11557ad95e",
   "outputs": [
    {
     "name": "stdout",
     "output_type": "stream",
     "text": [
      "   * \n",
      "  * * \n",
      " * * * \n",
      "* * * * \n",
      " * * * \n",
      "  * * \n",
      "   * \n"
     ]
    }
   ],
   "execution_count": 14
  },
  {
   "metadata": {
    "ExecuteTime": {
     "end_time": "2025-05-27T19:05:12.789252Z",
     "start_time": "2025-05-27T19:05:12.783443Z"
    }
   },
   "cell_type": "code",
   "source": [
    "#Question18(c)\n",
    "\n",
    "x=4\n",
    "n=1\n",
    "for i in range(1,x+1):\n",
    "    row=[]\n",
    "    for j in range(i):\n",
    "        row.append(str(n))\n",
    "        n+=1\n",
    "    print(\"*\".join(row))\n",
    "n-=x\n",
    "for i in range(x-1,0,-1):\n",
    "    n-=i\n",
    "    row=[]\n",
    "    for j in range(i):\n",
    "        row.append(str(n))\n",
    "        n+=1\n",
    "    print(\"*\".join(row))\n",
    "    n-=i\n"
   ],
   "id": "c7f184452720e34f",
   "outputs": [
    {
     "name": "stdout",
     "output_type": "stream",
     "text": [
      "1\n",
      "2*3\n",
      "4*5*6\n",
      "7*8*9*10\n",
      "4*5*6\n",
      "2*3\n",
      "1\n"
     ]
    }
   ],
   "execution_count": 17
  },
  {
   "metadata": {
    "ExecuteTime": {
     "end_time": "2025-05-27T19:38:36.612567Z",
     "start_time": "2025-05-27T19:38:36.608367Z"
    }
   },
   "cell_type": "code",
   "source": [
    "#Question18(d)\n",
    "\n",
    "x=7\n",
    "for i in range(x):\n",
    "    if i == 0:\n",
    "        print(\" ***\")\n",
    "    elif i == x//2:\n",
    "        print(\"* ***\")\n",
    "    elif i == x-1:\n",
    "        print(\" ***\")\n",
    "    elif i >=4:\n",
    "        print(\"*   *\")\n",
    "    else:\n",
    "        print(\"*\")"
   ],
   "id": "ca04817a78c1b3c",
   "outputs": [
    {
     "name": "stdout",
     "output_type": "stream",
     "text": [
      " ***\n",
      "*\n",
      "*\n",
      "* ***\n",
      "*   *\n",
      "*   *\n",
      " ***\n"
     ]
    }
   ],
   "execution_count": 29
  },
  {
   "metadata": {
    "ExecuteTime": {
     "end_time": "2025-05-27T19:44:42.862839Z",
     "start_time": "2025-05-27T19:44:42.852142Z"
    }
   },
   "cell_type": "code",
   "source": [
    "#Question18(e)\n",
    "\n",
    "x=5  # Must be odd\n",
    "for i in range(x):\n",
    "    for j in range(x):\n",
    "        if i == 0 or i == n - 1 or j == n // 2:\n",
    "            print('1', end=' ')\n",
    "        else:\n",
    "            print('0', end=' ')\n",
    "    print()\n",
    "\n"
   ],
   "id": "3a78c829f0a7b902",
   "outputs": [
    {
     "name": "stdout",
     "output_type": "stream",
     "text": [
      "1 1 1 1 1 \n",
      "0 0 1 0 0 \n",
      "0 0 1 0 0 \n",
      "0 0 1 0 0 \n",
      "1 1 1 1 1 \n"
     ]
    }
   ],
   "execution_count": 33
  },
  {
   "metadata": {
    "ExecuteTime": {
     "end_time": "2025-05-28T07:22:15.798620Z",
     "start_time": "2025-05-28T07:22:05.542905Z"
    }
   },
   "cell_type": "code",
   "source": [
    "#Question 19:Cyclic rotation:\n",
    "\n",
    "direction=int(input(\"Enter 1 for left rotation or 2 for right rotation:  \"))\n",
    "string=input(\"Enter a string: \")\n",
    "x=int(input(\"Enter how many times you want to rotate: \"))\n",
    "\n",
    "for i in range(x):\n",
    "    if direction == 1:\n",
    "        string=string[1:]+string[0]\n",
    "    elif direction == 2:\n",
    "        string=string[-1]+string[:-1]\n",
    "    print(string)"
   ],
   "id": "7dfd3e4d6c780126",
   "outputs": [
    {
     "name": "stdout",
     "output_type": "stream",
     "text": [
      "appyh\n",
      "ppyha\n"
     ]
    }
   ],
   "execution_count": 20
  },
  {
   "metadata": {
    "ExecuteTime": {
     "end_time": "2025-05-28T08:31:24.430708Z",
     "start_time": "2025-05-28T08:31:10.003783Z"
    }
   },
   "cell_type": "code",
   "source": [
    "#Question 20:In a pathology lab test, there are n number of samples for testing the health condition of a patient,\n",
    "#each slide has 5 components, Sugar level, Blood pressure, Heartbeat rate, weight and fat percentage,\n",
    "#based on input as provided by the patient's blood report.\n",
    "\n",
    "healthy_data={\n",
    "    \"Sugar Level\":15,\n",
    "    \"Blood Pressure\":32,\n",
    "    \"Heartbeat Rate\":71,\n",
    "    \"Weight\":65,\n",
    "    \"Fat Percentage\":10\n",
    "}\n",
    "\n",
    "user_data={}\n",
    "for i in healthy_data:\n",
    "    x=int(input(f\"Enter your data {i} : \"))\n",
    "    user_data[i]=x\n",
    "\n",
    "difference={}\n",
    "for i in healthy_data:\n",
    "    y=user_data[i]-healthy_data[i]\n",
    "    difference[i]=y\n",
    "\n",
    "print(\"\\nEntered Data: \")\n",
    "for i in user_data:\n",
    "    print(f\"{i}:{user_data[i]}\")\n",
    "print(\"\\n Difference from healthy values: \")\n",
    "print(difference)\n",
    "\n",
    "print(\"\\nWarnings:\")\n",
    "for i in difference:\n",
    "    y=difference[i]\n",
    "    if y == 0:\n",
    "        print(f\"{i} is perfect\")\n",
    "    elif y > 0:\n",
    "        print(f\"{i} is {y} more than the ideal value.\")\n",
    "    else:\n",
    "        print(f\"{i} is {-y} less than the ideal value.\")"
   ],
   "id": "d89733b0f9a8921c",
   "outputs": [
    {
     "name": "stdout",
     "output_type": "stream",
     "text": [
      "\n",
      "Entered Data: \n",
      "Sugar Level:56\n",
      "Blood Pressure:120\n",
      "Heartbeat Rate:45\n",
      "Weight:67\n",
      "Fat Percentage:67\n",
      "\n",
      " Difference from healthy values: \n",
      "{'Sugar Level': 41, 'Blood Pressure': 88, 'Heartbeat Rate': -26, 'Weight': 2, 'Fat Percentage': 57}\n",
      "\n",
      "Warnings:\n",
      "Sugar Level is 41 more than the ideal value.\n",
      "Blood Pressure is 88 more than the ideal value.\n",
      "Heartbeat Rate is 26 less than the ideal value.\n",
      "Weight is 2 more than the ideal value.\n",
      "Fat Percentage is 57 more than the ideal value.\n"
     ]
    }
   ],
   "execution_count": 3
  },
  {
   "metadata": {
    "ExecuteTime": {
     "end_time": "2025-05-28T07:38:56.189941Z",
     "start_time": "2025-05-28T07:38:46.132862Z"
    }
   },
   "cell_type": "code",
   "source": [
    "#Question 21:Check whether the given number is Armstrong number or not\n",
    "\n",
    "x=int(input(\"Enter a number: \"))\n",
    "digits=len(str(x))\n",
    "sum=0\n",
    "for i in str(x):\n",
    "    sum += int(i)**digits\n",
    "if sum == x:\n",
    "    print(\"Number is Armstrong number\")\n",
    "else:\n",
    "    print(\"Number is not a Armstrong number\")\n"
   ],
   "id": "b6f5bb7a75bba312",
   "outputs": [
    {
     "name": "stdout",
     "output_type": "stream",
     "text": [
      "Number is not a Armstrong number\n"
     ]
    }
   ],
   "execution_count": 25
  },
  {
   "metadata": {
    "ExecuteTime": {
     "end_time": "2025-05-28T07:51:13.077494Z",
     "start_time": "2025-05-28T07:51:10.632693Z"
    }
   },
   "cell_type": "code",
   "source": [
    "#Question 22:Convert Decimal to binary (Without inbuilt function)\n",
    "\n",
    "def binary(n):\n",
    "    x=\"\"\n",
    "    if n==0:\n",
    "        return \"0\"\n",
    "    while n>0:\n",
    "        remainder=n%2\n",
    "        x=str(remainder)+x\n",
    "        n=n//2\n",
    "    return x\n",
    "y=int(input(\"Enter a number: \"))\n",
    "print(\"Binary: \",binary(y))"
   ],
   "id": "cfed183f8747233d",
   "outputs": [
    {
     "name": "stdout",
     "output_type": "stream",
     "text": [
      "Binary:  10\n"
     ]
    }
   ],
   "execution_count": 31
  },
  {
   "metadata": {
    "ExecuteTime": {
     "end_time": "2025-05-28T08:01:26.509285Z",
     "start_time": "2025-05-28T08:01:23.153724Z"
    }
   },
   "cell_type": "code",
   "source": [
    "#Question 23:Find whether the given number is perfect number or not.\n",
    "\n",
    "def perfect_number(x):\n",
    "    divisor=0\n",
    "    for i in range(1,x):\n",
    "        if x % i == 0:\n",
    "            divisor += i\n",
    "    if divisor == x:\n",
    "        print(\"Number is perfect number\")\n",
    "    else:\n",
    "        print(\"Number is not a perfect number\")\n",
    "x=int(input(\"Enter a Number\"))\n",
    "perfect_number(x)"
   ],
   "id": "6ac1f346140b5b51",
   "outputs": [
    {
     "name": "stdout",
     "output_type": "stream",
     "text": [
      "Number is perfect number\n"
     ]
    }
   ],
   "execution_count": 33
  }
 ],
 "metadata": {
  "kernelspec": {
   "display_name": "Python 3",
   "language": "python",
   "name": "python3"
  },
  "language_info": {
   "codemirror_mode": {
    "name": "ipython",
    "version": 2
   },
   "file_extension": ".py",
   "mimetype": "text/x-python",
   "name": "python",
   "nbconvert_exporter": "python",
   "pygments_lexer": "ipython2",
   "version": "2.7.6"
  }
 },
 "nbformat": 4,
 "nbformat_minor": 5
}
